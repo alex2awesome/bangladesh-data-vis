{
 "cells": [
  {
   "cell_type": "code",
   "execution_count": 5,
   "metadata": {},
   "outputs": [
    {
     "name": "stdout",
     "output_type": "stream",
     "text": [
      "d3.min.js           topojson.v1.min.js\r\n"
     ]
    }
   ],
   "source": [
    "ls lib/d3"
   ]
  },
  {
   "cell_type": "code",
   "execution_count": 11,
   "metadata": {},
   "outputs": [
    {
     "data": {
      "text/html": [
       "\n",
       "<script src=\"lib/d3/d3.min.js\"></script>\n",
       "<script src=\"lib/d3/topojson.v1.min.js\"></script>\n"
      ],
      "text/plain": [
       "<IPython.core.display.HTML object>"
      ]
     },
     "execution_count": 11,
     "metadata": {},
     "output_type": "execute_result"
    }
   ],
   "source": [
    "HTML('''\n",
    "<script src=\"lib/d3/d3.min.js\"></script>\n",
    "<script src=\"lib/d3/topojson.v1.min.js\"></script>\n",
    "''')"
   ]
  },
  {
   "cell_type": "code",
   "execution_count": 13,
   "metadata": {},
   "outputs": [
    {
     "data": {
      "text/html": [
       "\n",
       "<!DOCTYPE html>\n",
       "<meta charset=\"utf-8\">\n",
       "<style>\n",
       "\n",
       ".title {\n",
       "  display: inline-block;\n",
       "  font-size: 48px;\n",
       "  line-height: 90px;\n",
       "  text-align: center;\n",
       "}\n",
       "\n",
       "</style>\n",
       "<body>\n",
       "<script>\n",
       "\n",
       "var diameter = 960 / 3,\n",
       "    radius = diameter / 2,\n",
       "    velocity = 0.01;\n",
       "\n",
       "var projection = d3.geoOrthographic()\n",
       "    .scale(radius - 2)\n",
       "    .translate([radius, radius])\n",
       "    .clipAngle(90)\n",
       "    .precision(0);\n",
       "\n",
       "d3.select(\"body\").selectAll(\".title\")\n",
       "  .data([\"lambda\", \"phi\", \"gamma\"])\n",
       "  .enter().append(\"div\")\n",
       "    .attr(\"class\", \"title\")\n",
       "    .style(\"width\", diameter + \"px\")\n",
       "    .text(function(d) { return d; });\n",
       "\n",
       "var canvas = d3.select(\"body\").selectAll(\"canvas\")\n",
       "  .data(d3.range(3))\n",
       "  .enter().append(\"canvas\")\n",
       "    .datum(function() { return this.getContext(\"2d\"); })\n",
       "    .attr(\"width\", diameter)\n",
       "    .attr(\"height\", diameter);\n",
       "\n",
       "var path = d3.geoPath()\n",
       "    .projection(projection);\n",
       "\n",
       "d3.json(\"/mbostock/raw/4090846/world-110m.json\", function(error, world) {\n",
       "  if (error) throw error;\n",
       "\n",
       "  var land = topojson.feature(world, world.objects.land),\n",
       "      globe = {type: \"Sphere\"};\n",
       "\n",
       "  d3.timer(function(elapsed) {\n",
       "    var angle = velocity * elapsed;\n",
       "    canvas.each(function(context, i) {\n",
       "      var rotate = [0, 0, 0];\n",
       "      rotate[i] = angle, projection.rotate(rotate);\n",
       "      context.clearRect(0, 0, diameter, diameter);\n",
       "      context.beginPath(), path.context(context)(land), context.fill();\n",
       "      context.beginPath(), path(globe), context.stroke();\n",
       "    });\n",
       "  });\n",
       "});\n",
       "\n",
       "</script>\n"
      ],
      "text/plain": [
       "<IPython.core.display.HTML object>"
      ]
     },
     "execution_count": 13,
     "metadata": {},
     "output_type": "execute_result"
    }
   ],
   "source": [
    "from IPython.core.display import HTML\n",
    "HTML('''\n",
    "<!DOCTYPE html>\n",
    "<meta charset=\"utf-8\">\n",
    "<style>\n",
    "\n",
    ".title {\n",
    "  display: inline-block;\n",
    "  font-size: 48px;\n",
    "  line-height: 90px;\n",
    "  text-align: center;\n",
    "}\n",
    "\n",
    "</style>\n",
    "<body>\n",
    "<script>\n",
    "\n",
    "var diameter = 960 / 3,\n",
    "    radius = diameter / 2,\n",
    "    velocity = 0.01;\n",
    "\n",
    "var projection = d3.geoOrthographic()\n",
    "    .scale(radius - 2)\n",
    "    .translate([radius, radius])\n",
    "    .clipAngle(90)\n",
    "    .precision(0);\n",
    "\n",
    "d3.select(\"body\").selectAll(\".title\")\n",
    "  .data([\"lambda\", \"phi\", \"gamma\"])\n",
    "  .enter().append(\"div\")\n",
    "    .attr(\"class\", \"title\")\n",
    "    .style(\"width\", diameter + \"px\")\n",
    "    .text(function(d) { return d; });\n",
    "\n",
    "var canvas = d3.select(\"body\").selectAll(\"canvas\")\n",
    "  .data(d3.range(3))\n",
    "  .enter().append(\"canvas\")\n",
    "    .datum(function() { return this.getContext(\"2d\"); })\n",
    "    .attr(\"width\", diameter)\n",
    "    .attr(\"height\", diameter);\n",
    "\n",
    "var path = d3.geoPath()\n",
    "    .projection(projection);\n",
    "\n",
    "d3.json(\"/mbostock/raw/4090846/world-110m.json\", function(error, world) {\n",
    "  if (error) throw error;\n",
    "\n",
    "  var land = topojson.feature(world, world.objects.land),\n",
    "      globe = {type: \"Sphere\"};\n",
    "\n",
    "  d3.timer(function(elapsed) {\n",
    "    var angle = velocity * elapsed;\n",
    "    canvas.each(function(context, i) {\n",
    "      var rotate = [0, 0, 0];\n",
    "      rotate[i] = angle, projection.rotate(rotate);\n",
    "      context.clearRect(0, 0, diameter, diameter);\n",
    "      context.beginPath(), path.context(context)(land), context.fill();\n",
    "      context.beginPath(), path(globe), context.stroke();\n",
    "    });\n",
    "  });\n",
    "});\n",
    "\n",
    "</script>\n",
    "''')"
   ]
  },
  {
   "cell_type": "code",
   "execution_count": null,
   "metadata": {
    "collapsed": true
   },
   "outputs": [],
   "source": []
  }
 ],
 "metadata": {
  "anaconda-cloud": {},
  "kernelspec": {
   "display_name": "Python 2",
   "language": "python",
   "name": "python2"
  },
  "language_info": {
   "codemirror_mode": {
    "name": "ipython",
    "version": 2
   },
   "file_extension": ".py",
   "mimetype": "text/x-python",
   "name": "python",
   "nbconvert_exporter": "python",
   "pygments_lexer": "ipython2",
   "version": "2.7.13"
  }
 },
 "nbformat": 4,
 "nbformat_minor": 1
}
