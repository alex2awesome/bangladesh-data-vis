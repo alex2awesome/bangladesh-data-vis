{
 "cells": [
  {
   "cell_type": "code",
   "execution_count": 2,
   "metadata": {
    "collapsed": true
   },
   "outputs": [],
   "source": [
    "import json\n",
    "import pandas as pd "
   ]
  },
  {
   "cell_type": "code",
   "execution_count": 3,
   "metadata": {
    "collapsed": true
   },
   "outputs": [],
   "source": [
    "t = json.load(open('../map-files/bangla_region.json'))"
   ]
  },
  {
   "cell_type": "code",
   "execution_count": 7,
   "metadata": {},
   "outputs": [
    {
     "data": {
      "text/html": [
       "<div>\n",
       "<style>\n",
       "    .dataframe thead tr:only-child th {\n",
       "        text-align: right;\n",
       "    }\n",
       "\n",
       "    .dataframe thead th {\n",
       "        text-align: left;\n",
       "    }\n",
       "\n",
       "    .dataframe tbody tr th {\n",
       "        vertical-align: top;\n",
       "    }\n",
       "</style>\n",
       "<table border=\"1\" class=\"dataframe\">\n",
       "  <thead>\n",
       "    <tr style=\"text-align: right;\">\n",
       "      <th></th>\n",
       "      <th>geometry</th>\n",
       "      <th>properties</th>\n",
       "      <th>type</th>\n",
       "    </tr>\n",
       "  </thead>\n",
       "  <tbody>\n",
       "    <tr>\n",
       "      <th>0</th>\n",
       "      <td>{u'type': u'Polygon', u'coordinates': [[[123.5...</td>\n",
       "      <td>{u'labelrank': 5, u'gu_a3': u'ATC', u'long_len...</td>\n",
       "      <td>Feature</td>\n",
       "    </tr>\n",
       "    <tr>\n",
       "      <th>1</th>\n",
       "      <td>{u'type': u'MultiPolygon', u'coordinates': [[[...</td>\n",
       "      <td>{u'labelrank': 3, u'gu_a3': u'BGD', u'long_len...</td>\n",
       "      <td>Feature</td>\n",
       "    </tr>\n",
       "    <tr>\n",
       "      <th>2</th>\n",
       "      <td>{u'type': u'MultiPolygon', u'coordinates': [[[...</td>\n",
       "      <td>{u'labelrank': 6, u'gu_a3': u'BRN', u'long_len...</td>\n",
       "      <td>Feature</td>\n",
       "    </tr>\n",
       "    <tr>\n",
       "      <th>3</th>\n",
       "      <td>{u'type': u'Polygon', u'coordinates': [[[91.63...</td>\n",
       "      <td>{u'labelrank': 5, u'gu_a3': u'BTN', u'long_len...</td>\n",
       "      <td>Feature</td>\n",
       "    </tr>\n",
       "    <tr>\n",
       "      <th>4</th>\n",
       "      <td>{u'type': u'Polygon', u'coordinates': [[[110.8...</td>\n",
       "      <td>{u'labelrank': 2, u'gu_a3': u'CHN', u'long_len...</td>\n",
       "      <td>Feature</td>\n",
       "    </tr>\n",
       "  </tbody>\n",
       "</table>\n",
       "</div>"
      ],
      "text/plain": [
       "                                            geometry  \\\n",
       "0  {u'type': u'Polygon', u'coordinates': [[[123.5...   \n",
       "1  {u'type': u'MultiPolygon', u'coordinates': [[[...   \n",
       "2  {u'type': u'MultiPolygon', u'coordinates': [[[...   \n",
       "3  {u'type': u'Polygon', u'coordinates': [[[91.63...   \n",
       "4  {u'type': u'Polygon', u'coordinates': [[[110.8...   \n",
       "\n",
       "                                          properties     type  \n",
       "0  {u'labelrank': 5, u'gu_a3': u'ATC', u'long_len...  Feature  \n",
       "1  {u'labelrank': 3, u'gu_a3': u'BGD', u'long_len...  Feature  \n",
       "2  {u'labelrank': 6, u'gu_a3': u'BRN', u'long_len...  Feature  \n",
       "3  {u'labelrank': 5, u'gu_a3': u'BTN', u'long_len...  Feature  \n",
       "4  {u'labelrank': 2, u'gu_a3': u'CHN', u'long_len...  Feature  "
      ]
     },
     "execution_count": 7,
     "metadata": {},
     "output_type": "execute_result"
    }
   ],
   "source": [
    "pd.DataFrame(t['features']).head()"
   ]
  },
  {
   "cell_type": "markdown",
   "metadata": {},
   "source": [
    "https://stackoverflow.com/questions/44345924/get-bounding-box-of-individual-countries-from-topojson\n",
    "\n",
    "https://stackoverflow.com/questions/13274151/d3js-scale-transform-and-translate\n",
    "\n",
    "https://stackoverflow.com/questions/14492284/center-a-map-in-d3-given-a-geojson-object\n",
    "\n",
    "https://bl.ocks.org/mbostock/4707858"
   ]
  },
  {
   "cell_type": "code",
   "execution_count": null,
   "metadata": {
    "collapsed": true
   },
   "outputs": [],
   "source": []
  }
 ],
 "metadata": {
  "anaconda-cloud": {},
  "kernelspec": {
   "display_name": "Python 2",
   "language": "python",
   "name": "python2"
  },
  "language_info": {
   "codemirror_mode": {
    "name": "ipython",
    "version": 2
   },
   "file_extension": ".py",
   "mimetype": "text/x-python",
   "name": "python",
   "nbconvert_exporter": "python",
   "pygments_lexer": "ipython2",
   "version": "2.7.13"
  }
 },
 "nbformat": 4,
 "nbformat_minor": 1
}
